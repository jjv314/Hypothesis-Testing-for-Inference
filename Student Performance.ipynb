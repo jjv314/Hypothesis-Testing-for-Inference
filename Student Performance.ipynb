{
 "cells": [
  {
   "cell_type": "code",
   "execution_count": 1,
   "metadata": {},
   "outputs": [],
   "source": [
    "import pandas as pd\n",
    "import numpy as np\n",
    "import seaborn as sb\n",
    "import matplotlib.pyplot as plt\n",
    "import matplotlib"
   ]
  },
  {
   "cell_type": "code",
   "execution_count": 2,
   "metadata": {},
   "outputs": [],
   "source": [
    "df = pd.read_csv('StudentsPerformance.csv')"
   ]
  },
  {
   "cell_type": "markdown",
   "metadata": {},
   "source": [
    "Basic description of data"
   ]
  },
  {
   "cell_type": "code",
   "execution_count": 3,
   "metadata": {},
   "outputs": [
    {
     "data": {
      "text/html": [
       "<div>\n",
       "<style scoped>\n",
       "    .dataframe tbody tr th:only-of-type {\n",
       "        vertical-align: middle;\n",
       "    }\n",
       "\n",
       "    .dataframe tbody tr th {\n",
       "        vertical-align: top;\n",
       "    }\n",
       "\n",
       "    .dataframe thead th {\n",
       "        text-align: right;\n",
       "    }\n",
       "</style>\n",
       "<table border=\"1\" class=\"dataframe\">\n",
       "  <thead>\n",
       "    <tr style=\"text-align: right;\">\n",
       "      <th></th>\n",
       "      <th>gender</th>\n",
       "      <th>race/ethnicity</th>\n",
       "      <th>parental level of education</th>\n",
       "      <th>lunch</th>\n",
       "      <th>test preparation course</th>\n",
       "      <th>math score</th>\n",
       "      <th>reading score</th>\n",
       "      <th>writing score</th>\n",
       "    </tr>\n",
       "  </thead>\n",
       "  <tbody>\n",
       "    <tr>\n",
       "      <th>4</th>\n",
       "      <td>male</td>\n",
       "      <td>group C</td>\n",
       "      <td>some college</td>\n",
       "      <td>standard</td>\n",
       "      <td>none</td>\n",
       "      <td>76</td>\n",
       "      <td>78</td>\n",
       "      <td>75</td>\n",
       "    </tr>\n",
       "    <tr>\n",
       "      <th>3</th>\n",
       "      <td>male</td>\n",
       "      <td>group A</td>\n",
       "      <td>associate's degree</td>\n",
       "      <td>free/reduced</td>\n",
       "      <td>none</td>\n",
       "      <td>47</td>\n",
       "      <td>57</td>\n",
       "      <td>44</td>\n",
       "    </tr>\n",
       "    <tr>\n",
       "      <th>0</th>\n",
       "      <td>female</td>\n",
       "      <td>group B</td>\n",
       "      <td>bachelor's degree</td>\n",
       "      <td>standard</td>\n",
       "      <td>none</td>\n",
       "      <td>72</td>\n",
       "      <td>72</td>\n",
       "      <td>74</td>\n",
       "    </tr>\n",
       "    <tr>\n",
       "      <th>2</th>\n",
       "      <td>female</td>\n",
       "      <td>group B</td>\n",
       "      <td>master's degree</td>\n",
       "      <td>standard</td>\n",
       "      <td>none</td>\n",
       "      <td>90</td>\n",
       "      <td>95</td>\n",
       "      <td>93</td>\n",
       "    </tr>\n",
       "    <tr>\n",
       "      <th>1</th>\n",
       "      <td>female</td>\n",
       "      <td>group C</td>\n",
       "      <td>some college</td>\n",
       "      <td>standard</td>\n",
       "      <td>completed</td>\n",
       "      <td>69</td>\n",
       "      <td>90</td>\n",
       "      <td>88</td>\n",
       "    </tr>\n",
       "  </tbody>\n",
       "</table>\n",
       "</div>"
      ],
      "text/plain": [
       "   gender race/ethnicity parental level of education         lunch  \\\n",
       "4    male        group C                some college      standard   \n",
       "3    male        group A          associate's degree  free/reduced   \n",
       "0  female        group B           bachelor's degree      standard   \n",
       "2  female        group B             master's degree      standard   \n",
       "1  female        group C                some college      standard   \n",
       "\n",
       "  test preparation course  math score  reading score  writing score  \n",
       "4                    none          76             78             75  \n",
       "3                    none          47             57             44  \n",
       "0                    none          72             72             74  \n",
       "2                    none          90             95             93  \n",
       "1               completed          69             90             88  "
      ]
     },
     "execution_count": 3,
     "metadata": {},
     "output_type": "execute_result"
    }
   ],
   "source": [
    "df.head().sample(5)"
   ]
  },
  {
   "cell_type": "code",
   "execution_count": 4,
   "metadata": {},
   "outputs": [
    {
     "name": "stdout",
     "output_type": "stream",
     "text": [
      "<class 'pandas.core.frame.DataFrame'>\n",
      "RangeIndex: 1000 entries, 0 to 999\n",
      "Data columns (total 8 columns):\n",
      " #   Column                       Non-Null Count  Dtype \n",
      "---  ------                       --------------  ----- \n",
      " 0   gender                       1000 non-null   object\n",
      " 1   race/ethnicity               1000 non-null   object\n",
      " 2   parental level of education  1000 non-null   object\n",
      " 3   lunch                        1000 non-null   object\n",
      " 4   test preparation course      1000 non-null   object\n",
      " 5   math score                   1000 non-null   int64 \n",
      " 6   reading score                1000 non-null   int64 \n",
      " 7   writing score                1000 non-null   int64 \n",
      "dtypes: int64(3), object(5)\n",
      "memory usage: 62.6+ KB\n"
     ]
    }
   ],
   "source": [
    "df.info()"
   ]
  },
  {
   "cell_type": "code",
   "execution_count": 5,
   "metadata": {},
   "outputs": [
    {
     "data": {
      "text/html": [
       "<div>\n",
       "<style scoped>\n",
       "    .dataframe tbody tr th:only-of-type {\n",
       "        vertical-align: middle;\n",
       "    }\n",
       "\n",
       "    .dataframe tbody tr th {\n",
       "        vertical-align: top;\n",
       "    }\n",
       "\n",
       "    .dataframe thead th {\n",
       "        text-align: right;\n",
       "    }\n",
       "</style>\n",
       "<table border=\"1\" class=\"dataframe\">\n",
       "  <thead>\n",
       "    <tr style=\"text-align: right;\">\n",
       "      <th></th>\n",
       "      <th>math score</th>\n",
       "      <th>reading score</th>\n",
       "      <th>writing score</th>\n",
       "    </tr>\n",
       "  </thead>\n",
       "  <tbody>\n",
       "    <tr>\n",
       "      <th>count</th>\n",
       "      <td>1000.00000</td>\n",
       "      <td>1000.000000</td>\n",
       "      <td>1000.000000</td>\n",
       "    </tr>\n",
       "    <tr>\n",
       "      <th>mean</th>\n",
       "      <td>66.08900</td>\n",
       "      <td>69.169000</td>\n",
       "      <td>68.054000</td>\n",
       "    </tr>\n",
       "    <tr>\n",
       "      <th>std</th>\n",
       "      <td>15.16308</td>\n",
       "      <td>14.600192</td>\n",
       "      <td>15.195657</td>\n",
       "    </tr>\n",
       "    <tr>\n",
       "      <th>min</th>\n",
       "      <td>0.00000</td>\n",
       "      <td>17.000000</td>\n",
       "      <td>10.000000</td>\n",
       "    </tr>\n",
       "    <tr>\n",
       "      <th>25%</th>\n",
       "      <td>57.00000</td>\n",
       "      <td>59.000000</td>\n",
       "      <td>57.750000</td>\n",
       "    </tr>\n",
       "    <tr>\n",
       "      <th>50%</th>\n",
       "      <td>66.00000</td>\n",
       "      <td>70.000000</td>\n",
       "      <td>69.000000</td>\n",
       "    </tr>\n",
       "    <tr>\n",
       "      <th>75%</th>\n",
       "      <td>77.00000</td>\n",
       "      <td>79.000000</td>\n",
       "      <td>79.000000</td>\n",
       "    </tr>\n",
       "    <tr>\n",
       "      <th>max</th>\n",
       "      <td>100.00000</td>\n",
       "      <td>100.000000</td>\n",
       "      <td>100.000000</td>\n",
       "    </tr>\n",
       "  </tbody>\n",
       "</table>\n",
       "</div>"
      ],
      "text/plain": [
       "       math score  reading score  writing score\n",
       "count  1000.00000    1000.000000    1000.000000\n",
       "mean     66.08900      69.169000      68.054000\n",
       "std      15.16308      14.600192      15.195657\n",
       "min       0.00000      17.000000      10.000000\n",
       "25%      57.00000      59.000000      57.750000\n",
       "50%      66.00000      70.000000      69.000000\n",
       "75%      77.00000      79.000000      79.000000\n",
       "max     100.00000     100.000000     100.000000"
      ]
     },
     "execution_count": 5,
     "metadata": {},
     "output_type": "execute_result"
    }
   ],
   "source": [
    "df.describe()"
   ]
  },
  {
   "cell_type": "markdown",
   "metadata": {},
   "source": [
    "Creating variable 'Language Performance' and 'Overall Performance'"
   ]
  },
  {
   "cell_type": "code",
   "execution_count": 6,
   "metadata": {},
   "outputs": [],
   "source": [
    "df['Language Performance'] = (df['reading score'] + df['writing score'])/2"
   ]
  },
  {
   "cell_type": "code",
   "execution_count": 7,
   "metadata": {},
   "outputs": [
    {
     "data": {
      "text/html": [
       "<div>\n",
       "<style scoped>\n",
       "    .dataframe tbody tr th:only-of-type {\n",
       "        vertical-align: middle;\n",
       "    }\n",
       "\n",
       "    .dataframe tbody tr th {\n",
       "        vertical-align: top;\n",
       "    }\n",
       "\n",
       "    .dataframe thead th {\n",
       "        text-align: right;\n",
       "    }\n",
       "</style>\n",
       "<table border=\"1\" class=\"dataframe\">\n",
       "  <thead>\n",
       "    <tr style=\"text-align: right;\">\n",
       "      <th></th>\n",
       "      <th>gender</th>\n",
       "      <th>race/ethnicity</th>\n",
       "      <th>parental level of education</th>\n",
       "      <th>lunch</th>\n",
       "      <th>test preparation course</th>\n",
       "      <th>math score</th>\n",
       "      <th>reading score</th>\n",
       "      <th>writing score</th>\n",
       "      <th>Language Performance</th>\n",
       "    </tr>\n",
       "  </thead>\n",
       "  <tbody>\n",
       "    <tr>\n",
       "      <th>0</th>\n",
       "      <td>female</td>\n",
       "      <td>group B</td>\n",
       "      <td>bachelor's degree</td>\n",
       "      <td>standard</td>\n",
       "      <td>none</td>\n",
       "      <td>72</td>\n",
       "      <td>72</td>\n",
       "      <td>74</td>\n",
       "      <td>73.0</td>\n",
       "    </tr>\n",
       "    <tr>\n",
       "      <th>1</th>\n",
       "      <td>female</td>\n",
       "      <td>group C</td>\n",
       "      <td>some college</td>\n",
       "      <td>standard</td>\n",
       "      <td>completed</td>\n",
       "      <td>69</td>\n",
       "      <td>90</td>\n",
       "      <td>88</td>\n",
       "      <td>89.0</td>\n",
       "    </tr>\n",
       "    <tr>\n",
       "      <th>2</th>\n",
       "      <td>female</td>\n",
       "      <td>group B</td>\n",
       "      <td>master's degree</td>\n",
       "      <td>standard</td>\n",
       "      <td>none</td>\n",
       "      <td>90</td>\n",
       "      <td>95</td>\n",
       "      <td>93</td>\n",
       "      <td>94.0</td>\n",
       "    </tr>\n",
       "    <tr>\n",
       "      <th>3</th>\n",
       "      <td>male</td>\n",
       "      <td>group A</td>\n",
       "      <td>associate's degree</td>\n",
       "      <td>free/reduced</td>\n",
       "      <td>none</td>\n",
       "      <td>47</td>\n",
       "      <td>57</td>\n",
       "      <td>44</td>\n",
       "      <td>50.5</td>\n",
       "    </tr>\n",
       "    <tr>\n",
       "      <th>4</th>\n",
       "      <td>male</td>\n",
       "      <td>group C</td>\n",
       "      <td>some college</td>\n",
       "      <td>standard</td>\n",
       "      <td>none</td>\n",
       "      <td>76</td>\n",
       "      <td>78</td>\n",
       "      <td>75</td>\n",
       "      <td>76.5</td>\n",
       "    </tr>\n",
       "  </tbody>\n",
       "</table>\n",
       "</div>"
      ],
      "text/plain": [
       "   gender race/ethnicity parental level of education         lunch  \\\n",
       "0  female        group B           bachelor's degree      standard   \n",
       "1  female        group C                some college      standard   \n",
       "2  female        group B             master's degree      standard   \n",
       "3    male        group A          associate's degree  free/reduced   \n",
       "4    male        group C                some college      standard   \n",
       "\n",
       "  test preparation course  math score  reading score  writing score  \\\n",
       "0                    none          72             72             74   \n",
       "1               completed          69             90             88   \n",
       "2                    none          90             95             93   \n",
       "3                    none          47             57             44   \n",
       "4                    none          76             78             75   \n",
       "\n",
       "   Language Performance  \n",
       "0                  73.0  \n",
       "1                  89.0  \n",
       "2                  94.0  \n",
       "3                  50.5  \n",
       "4                  76.5  "
      ]
     },
     "execution_count": 7,
     "metadata": {},
     "output_type": "execute_result"
    }
   ],
   "source": [
    "df.head()"
   ]
  },
  {
   "cell_type": "code",
   "execution_count": 8,
   "metadata": {},
   "outputs": [],
   "source": [
    "df['Overall Performance'] = round((df['math score'] + df['reading score'] + df['writing score'])/3,2)"
   ]
  },
  {
   "cell_type": "code",
   "execution_count": 9,
   "metadata": {},
   "outputs": [
    {
     "data": {
      "text/html": [
       "<div>\n",
       "<style scoped>\n",
       "    .dataframe tbody tr th:only-of-type {\n",
       "        vertical-align: middle;\n",
       "    }\n",
       "\n",
       "    .dataframe tbody tr th {\n",
       "        vertical-align: top;\n",
       "    }\n",
       "\n",
       "    .dataframe thead th {\n",
       "        text-align: right;\n",
       "    }\n",
       "</style>\n",
       "<table border=\"1\" class=\"dataframe\">\n",
       "  <thead>\n",
       "    <tr style=\"text-align: right;\">\n",
       "      <th></th>\n",
       "      <th>gender</th>\n",
       "      <th>race/ethnicity</th>\n",
       "      <th>parental level of education</th>\n",
       "      <th>lunch</th>\n",
       "      <th>test preparation course</th>\n",
       "      <th>math score</th>\n",
       "      <th>reading score</th>\n",
       "      <th>writing score</th>\n",
       "      <th>Language Performance</th>\n",
       "      <th>Overall Performance</th>\n",
       "    </tr>\n",
       "  </thead>\n",
       "  <tbody>\n",
       "    <tr>\n",
       "      <th>0</th>\n",
       "      <td>female</td>\n",
       "      <td>group B</td>\n",
       "      <td>bachelor's degree</td>\n",
       "      <td>standard</td>\n",
       "      <td>none</td>\n",
       "      <td>72</td>\n",
       "      <td>72</td>\n",
       "      <td>74</td>\n",
       "      <td>73.0</td>\n",
       "      <td>72.67</td>\n",
       "    </tr>\n",
       "    <tr>\n",
       "      <th>1</th>\n",
       "      <td>female</td>\n",
       "      <td>group C</td>\n",
       "      <td>some college</td>\n",
       "      <td>standard</td>\n",
       "      <td>completed</td>\n",
       "      <td>69</td>\n",
       "      <td>90</td>\n",
       "      <td>88</td>\n",
       "      <td>89.0</td>\n",
       "      <td>82.33</td>\n",
       "    </tr>\n",
       "    <tr>\n",
       "      <th>2</th>\n",
       "      <td>female</td>\n",
       "      <td>group B</td>\n",
       "      <td>master's degree</td>\n",
       "      <td>standard</td>\n",
       "      <td>none</td>\n",
       "      <td>90</td>\n",
       "      <td>95</td>\n",
       "      <td>93</td>\n",
       "      <td>94.0</td>\n",
       "      <td>92.67</td>\n",
       "    </tr>\n",
       "    <tr>\n",
       "      <th>3</th>\n",
       "      <td>male</td>\n",
       "      <td>group A</td>\n",
       "      <td>associate's degree</td>\n",
       "      <td>free/reduced</td>\n",
       "      <td>none</td>\n",
       "      <td>47</td>\n",
       "      <td>57</td>\n",
       "      <td>44</td>\n",
       "      <td>50.5</td>\n",
       "      <td>49.33</td>\n",
       "    </tr>\n",
       "    <tr>\n",
       "      <th>4</th>\n",
       "      <td>male</td>\n",
       "      <td>group C</td>\n",
       "      <td>some college</td>\n",
       "      <td>standard</td>\n",
       "      <td>none</td>\n",
       "      <td>76</td>\n",
       "      <td>78</td>\n",
       "      <td>75</td>\n",
       "      <td>76.5</td>\n",
       "      <td>76.33</td>\n",
       "    </tr>\n",
       "  </tbody>\n",
       "</table>\n",
       "</div>"
      ],
      "text/plain": [
       "   gender race/ethnicity parental level of education         lunch  \\\n",
       "0  female        group B           bachelor's degree      standard   \n",
       "1  female        group C                some college      standard   \n",
       "2  female        group B             master's degree      standard   \n",
       "3    male        group A          associate's degree  free/reduced   \n",
       "4    male        group C                some college      standard   \n",
       "\n",
       "  test preparation course  math score  reading score  writing score  \\\n",
       "0                    none          72             72             74   \n",
       "1               completed          69             90             88   \n",
       "2                    none          90             95             93   \n",
       "3                    none          47             57             44   \n",
       "4                    none          76             78             75   \n",
       "\n",
       "   Language Performance  Overall Performance  \n",
       "0                  73.0                72.67  \n",
       "1                  89.0                82.33  \n",
       "2                  94.0                92.67  \n",
       "3                  50.5                49.33  \n",
       "4                  76.5                76.33  "
      ]
     },
     "execution_count": 9,
     "metadata": {},
     "output_type": "execute_result"
    }
   ],
   "source": [
    "df.head()"
   ]
  },
  {
   "cell_type": "code",
   "execution_count": 10,
   "metadata": {},
   "outputs": [
    {
     "data": {
      "text/plain": [
       "Index(['gender', 'race/ethnicity', 'parental level of education', 'lunch',\n",
       "       'test preparation course', 'math score', 'reading score',\n",
       "       'writing score', 'Language Performance', 'Overall Performance'],\n",
       "      dtype='object')"
      ]
     },
     "execution_count": 10,
     "metadata": {},
     "output_type": "execute_result"
    }
   ],
   "source": [
    "df.columns"
   ]
  },
  {
   "cell_type": "markdown",
   "metadata": {},
   "source": [
    "## Hypothesis 1: There is no difference in means of student performance in any of basic literacy skills i.e. reading, writing, math."
   ]
  },
  {
   "cell_type": "code",
   "execution_count": 11,
   "metadata": {},
   "outputs": [
    {
     "data": {
      "image/png": "[encoded data removed]",
      "text/plain": [
       "<Figure size 432x288 with 1 Axes>"
      ]
     },
     "metadata": {
      "needs_background": "light"
     },
     "output_type": "display_data"
    }
   ],
   "source": [
    "sb.distplot(df['math score'], label = 'math score')\n",
    "sb.distplot(df['reading score'], label = 'reading score')\n",
    "sb.distplot(df['writing score'], label = 'writing score')\n",
    "plt.xlim(30,100)\n",
    "plt.xlabel('Test results')\n",
    "plt.legend();"
   ]
  },
  {
   "cell_type": "markdown",
   "metadata": {},
   "source": [
    "Ho: There is no difference in performance of students between math, reading and writing skills.\n",
    "\n",
    "Ha: There is a difference in performance of students between math, reaing and writing skills."
   ]
  },
  {
   "cell_type": "markdown",
   "metadata": {},
   "source": [
    "##### Types of Error:\n",
    "\n",
    "A Type 1 Error is rejecting the null hypothesis when Ho is actually true. A Type 2 Error is failing to reject the null hypothesis when the alternative is actually true.\n",
    "\n",
    "Consequences of Type 1 and Type 2 errors:\n",
    "\n",
    "Type 1 error: In this case we may wrongly believe that there is a difference in performance of students between math, reading and writing skills. We may dedicate our time and other resources to understand whether students are performing worse in any particular subject and bridge the gap between them unnecessarily.\n",
    "\n",
    "Type 2 error: In this case we may wrongly believe that there is no difference in performance of students between math, reading and writing skills. Assuming no difference in performance no necessary steps will be taken to understand whether students are facing any difficulties in any particular subject or not. In this case Type 2 error is more costly/dangerous than Type 1 error."
   ]
  },
  {
   "cell_type": "markdown",
   "metadata": {},
   "source": [
    "##### Significance Level:\n",
    "\n",
    "The signiﬁcance level selected for a test should reﬂect the consequences associated with Type 1 and Type 2 Errors.\n",
    "\n",
    "Since Type 2 error is more dangerous, we would increase the significance level to 0.10 from the standard 0.05 because we want to be cautious about failing to reject Ho when our null hypothesis is actually false.\n"
   ]
  },
  {
   "cell_type": "markdown",
   "metadata": {},
   "source": [
    "### Technique used : One way ANOVA"
   ]
  },
  {
   "cell_type": "markdown",
   "metadata": {},
   "source": [
    "<img src=\"medium_1.png\"/>"
   ]
  },
  {
   "cell_type": "code",
   "execution_count": 12,
   "metadata": {},
   "outputs": [
    {
     "name": "stdout",
     "output_type": "stream",
     "text": [
      "Calculated F_score is  10.82419162837862\n"
     ]
    }
   ],
   "source": [
    "# Finding global mean\n",
    "m_math = np.mean(df['math score'])\n",
    "m_reading = np.mean(df['reading score'])\n",
    "m_writing = np.mean(df['writing score'])\n",
    "m_total = (m_math + m_reading + m_writing)/3\n",
    "\n",
    "# Variance between groups\n",
    "SSB = 1000*((m_math - m_total)**2 + (m_reading - m_total)**2 + (m_writing - m_total)**2)\n",
    "\n",
    "# Variance within each sample\n",
    "SS_math = np.sum((df['math score'] - m_math)**2)\n",
    "SS_reading = np.sum((df['reading score'] - m_reading)**2)\n",
    "SS_writing = np.sum((df['writing score'] - m_writing)**2)\n",
    "SSW = SS_math + SS_reading + SS_writing\n",
    "\n",
    "# Mean square value between groups\n",
    "df_between = 2 ## 3columns - 1\n",
    "MSB = SSB/df_between\n",
    "\n",
    "# Mean square value within groups\n",
    "df_within = (1000*3 -3) ### N - C\n",
    "MSW = SSW/df_within\n",
    "\n",
    "# F-score\n",
    "F_score = MSB/MSW\n",
    "print('Calculated F_score is ', F_score)"
   ]
  },
  {
   "cell_type": "markdown",
   "metadata": {},
   "source": [
    "#### Verifying F score and finding f critical value"
   ]
  },
  {
   "cell_type": "code",
   "execution_count": 13,
   "metadata": {},
   "outputs": [
    {
     "name": "stdout",
     "output_type": "stream",
     "text": [
      "F_onewayResult(statistic=10.824191628378626, pvalue=2.0701893192229333e-05)\n",
      "F critical value for 0.1 significant value is  2.304355067891861\n"
     ]
    }
   ],
   "source": [
    "# Validating F score\n",
    "import scipy.stats as stats\n",
    "print(stats.f_oneway(df['math score'], df['reading score'], df['writing score']))\n",
    "\n",
    "# Finding F critical\n",
    "from scipy.stats import f\n",
    "print('F critical value for 0.1 significant value is ', f.ppf(0.9, df_between, df_within))"
   ]
  },
  {
   "cell_type": "markdown",
   "metadata": {},
   "source": [
    "F critical = 2.304\n",
    "\n",
    "F_score = 10.82"
   ]
  },
  {
   "cell_type": "code",
   "execution_count": 14,
   "metadata": {},
   "outputs": [
    {
     "data": {
      "image/png": "[encoded data removed]",
      "text/plain": [
       "<Figure size 432x288 with 1 Axes>"
      ]
     },
     "metadata": {
      "needs_background": "light"
     },
     "output_type": "display_data"
    }
   ],
   "source": [
    "from scipy.stats import f\n",
    "import matplotlib.pyplot as plt\n",
    "fig, ax = plt.subplots(1, 1)\n",
    "dfn, dfd = 2,2997\n",
    "x = np.linspace(f.ppf(0.01, dfn, dfd),f.ppf(0.99, dfn, dfd), 100)\n",
    "ax.plot(x, f.pdf(x, dfn, dfd),'r-', lw=5, alpha=0.9, label='f pdf')\n",
    "plt.axvline(x=f.ppf(0.9, dfn, dfd), label='Critical value for alpha=0.1', color='g')\n",
    "plt.axvline(x=10.82, label='F-score')\n",
    "plt.legend();"
   ]
  },
  {
   "cell_type": "code",
   "execution_count": 15,
   "metadata": {},
   "outputs": [
    {
     "data": {
      "text/plain": [
       "2997"
      ]
     },
     "execution_count": 15,
     "metadata": {},
     "output_type": "execute_result"
    }
   ],
   "source": [
    "df_within"
   ]
  },
  {
   "cell_type": "markdown",
   "metadata": {},
   "source": [
    "#### Conclusion:\n",
    "\n",
    "\n",
    "Since the value obtained by us beyond the critical region. Our Null Hypothesis that there exist no significant difference in the mean of the three writing scores/the scores come from the same population has to be rejected."
   ]
  },
  {
   "cell_type": "markdown",
   "metadata": {},
   "source": [
    "## Hypothesis 2: There is no relation between the gender of a student and their corresponding academic performance."
   ]
  },
  {
   "cell_type": "markdown",
   "metadata": {},
   "source": [
    "Ho: There is no relation between the gender of a student and their corresponding academic performance.\n",
    "\n",
    "Ha: There is a relation between the gender of a student and their corresponding academic performance."
   ]
  },
  {
   "cell_type": "markdown",
   "metadata": {},
   "source": [
    "##### Types of Error:\n",
    "\n",
    "A Type 1 Error is rejecting the null hypothesis when Ho is actually true. A Type 2 Error is failing to reject the null hypothesis when the alternative is actually true.\n",
    "\n",
    "Consequences of Type 1 and Type 2 errors:\n",
    "\n",
    "Type 1 error: In this case we may wrongly believe that here is a relation between the gender of a student and their corresponding academic performance. We may dedicate our time and other resources to find reasonable measures to mitigate the problem when none was required in the first place.\n",
    "\n",
    "Type 2 error: In this case we may wrongly believe that there is no relation between the gender of a student and their corresponding academic performance. Assuming no difference in performance no necessary steps will be taken and hence this case of Type 2 error is more costly/dangerous than Type 1 error."
   ]
  },
  {
   "cell_type": "markdown",
   "metadata": {},
   "source": [
    "##### Significance Level:\n",
    "\n",
    "The signiﬁcance level selected for a test should reﬂect the consequences associated with Type 1 and Type 2 Errors.\n",
    "\n",
    "Since Type 2 error is more dangerous, we would increase the significance level to 0.10 from the standard 0.05 because we want to be cautious about failing to reject Ho when our null hypothesis is actually false.\n"
   ]
  },
  {
   "cell_type": "markdown",
   "metadata": {},
   "source": [
    "### Technique used : Chi-Square Test of Independence"
   ]
  },
  {
   "cell_type": "markdown",
   "metadata": {},
   "source": [
    "Note: Here we will be creating a feature called Verdict which will let us know whether a student's performance is acceptable or not. We have 40 as the threshold for overall performance to be considered acceptable."
   ]
  },
  {
   "cell_type": "code",
   "execution_count": 16,
   "metadata": {},
   "outputs": [],
   "source": [
    "def perf_eval(num):\n",
    "    if num <40:\n",
    "        return 'Not Acceptable'\n",
    "    else:\n",
    "        return 'Acceptable'"
   ]
  },
  {
   "cell_type": "code",
   "execution_count": 17,
   "metadata": {},
   "outputs": [],
   "source": [
    "df['Verdict'] = df['Overall Performance'].apply(perf_eval)"
   ]
  },
  {
   "cell_type": "code",
   "execution_count": 18,
   "metadata": {},
   "outputs": [
    {
     "data": {
      "text/html": [
       "<div>\n",
       "<style scoped>\n",
       "    .dataframe tbody tr th:only-of-type {\n",
       "        vertical-align: middle;\n",
       "    }\n",
       "\n",
       "    .dataframe tbody tr th {\n",
       "        vertical-align: top;\n",
       "    }\n",
       "\n",
       "    .dataframe thead th {\n",
       "        text-align: right;\n",
       "    }\n",
       "</style>\n",
       "<table border=\"1\" class=\"dataframe\">\n",
       "  <thead>\n",
       "    <tr style=\"text-align: right;\">\n",
       "      <th></th>\n",
       "      <th>gender</th>\n",
       "      <th>race/ethnicity</th>\n",
       "      <th>parental level of education</th>\n",
       "      <th>lunch</th>\n",
       "      <th>test preparation course</th>\n",
       "      <th>math score</th>\n",
       "      <th>reading score</th>\n",
       "      <th>writing score</th>\n",
       "      <th>Language Performance</th>\n",
       "      <th>Overall Performance</th>\n",
       "      <th>Verdict</th>\n",
       "    </tr>\n",
       "  </thead>\n",
       "  <tbody>\n",
       "    <tr>\n",
       "      <th>0</th>\n",
       "      <td>female</td>\n",
       "      <td>group B</td>\n",
       "      <td>bachelor's degree</td>\n",
       "      <td>standard</td>\n",
       "      <td>none</td>\n",
       "      <td>72</td>\n",
       "      <td>72</td>\n",
       "      <td>74</td>\n",
       "      <td>73.0</td>\n",
       "      <td>72.67</td>\n",
       "      <td>Acceptable</td>\n",
       "    </tr>\n",
       "    <tr>\n",
       "      <th>1</th>\n",
       "      <td>female</td>\n",
       "      <td>group C</td>\n",
       "      <td>some college</td>\n",
       "      <td>standard</td>\n",
       "      <td>completed</td>\n",
       "      <td>69</td>\n",
       "      <td>90</td>\n",
       "      <td>88</td>\n",
       "      <td>89.0</td>\n",
       "      <td>82.33</td>\n",
       "      <td>Acceptable</td>\n",
       "    </tr>\n",
       "    <tr>\n",
       "      <th>2</th>\n",
       "      <td>female</td>\n",
       "      <td>group B</td>\n",
       "      <td>master's degree</td>\n",
       "      <td>standard</td>\n",
       "      <td>none</td>\n",
       "      <td>90</td>\n",
       "      <td>95</td>\n",
       "      <td>93</td>\n",
       "      <td>94.0</td>\n",
       "      <td>92.67</td>\n",
       "      <td>Acceptable</td>\n",
       "    </tr>\n",
       "    <tr>\n",
       "      <th>3</th>\n",
       "      <td>male</td>\n",
       "      <td>group A</td>\n",
       "      <td>associate's degree</td>\n",
       "      <td>free/reduced</td>\n",
       "      <td>none</td>\n",
       "      <td>47</td>\n",
       "      <td>57</td>\n",
       "      <td>44</td>\n",
       "      <td>50.5</td>\n",
       "      <td>49.33</td>\n",
       "      <td>Acceptable</td>\n",
       "    </tr>\n",
       "    <tr>\n",
       "      <th>4</th>\n",
       "      <td>male</td>\n",
       "      <td>group C</td>\n",
       "      <td>some college</td>\n",
       "      <td>standard</td>\n",
       "      <td>none</td>\n",
       "      <td>76</td>\n",
       "      <td>78</td>\n",
       "      <td>75</td>\n",
       "      <td>76.5</td>\n",
       "      <td>76.33</td>\n",
       "      <td>Acceptable</td>\n",
       "    </tr>\n",
       "  </tbody>\n",
       "</table>\n",
       "</div>"
      ],
      "text/plain": [
       "   gender race/ethnicity parental level of education         lunch  \\\n",
       "0  female        group B           bachelor's degree      standard   \n",
       "1  female        group C                some college      standard   \n",
       "2  female        group B             master's degree      standard   \n",
       "3    male        group A          associate's degree  free/reduced   \n",
       "4    male        group C                some college      standard   \n",
       "\n",
       "  test preparation course  math score  reading score  writing score  \\\n",
       "0                    none          72             72             74   \n",
       "1               completed          69             90             88   \n",
       "2                    none          90             95             93   \n",
       "3                    none          47             57             44   \n",
       "4                    none          76             78             75   \n",
       "\n",
       "   Language Performance  Overall Performance     Verdict  \n",
       "0                  73.0                72.67  Acceptable  \n",
       "1                  89.0                82.33  Acceptable  \n",
       "2                  94.0                92.67  Acceptable  \n",
       "3                  50.5                49.33  Acceptable  \n",
       "4                  76.5                76.33  Acceptable  "
      ]
     },
     "execution_count": 18,
     "metadata": {},
     "output_type": "execute_result"
    }
   ],
   "source": [
    "df.head()"
   ]
  },
  {
   "cell_type": "code",
   "execution_count": 19,
   "metadata": {},
   "outputs": [
    {
     "data": {
      "text/html": [
       "<div>\n",
       "<style scoped>\n",
       "    .dataframe tbody tr th:only-of-type {\n",
       "        vertical-align: middle;\n",
       "    }\n",
       "\n",
       "    .dataframe tbody tr th {\n",
       "        vertical-align: top;\n",
       "    }\n",
       "\n",
       "    .dataframe thead th {\n",
       "        text-align: right;\n",
       "    }\n",
       "</style>\n",
       "<table border=\"1\" class=\"dataframe\">\n",
       "  <thead>\n",
       "    <tr style=\"text-align: right;\">\n",
       "      <th>Verdict</th>\n",
       "      <th>Acceptable</th>\n",
       "      <th>Not Acceptable</th>\n",
       "      <th>All</th>\n",
       "    </tr>\n",
       "    <tr>\n",
       "      <th>gender</th>\n",
       "      <th></th>\n",
       "      <th></th>\n",
       "      <th></th>\n",
       "    </tr>\n",
       "  </thead>\n",
       "  <tbody>\n",
       "    <tr>\n",
       "      <th>female</th>\n",
       "      <td>502</td>\n",
       "      <td>16</td>\n",
       "      <td>518</td>\n",
       "    </tr>\n",
       "    <tr>\n",
       "      <th>male</th>\n",
       "      <td>468</td>\n",
       "      <td>14</td>\n",
       "      <td>482</td>\n",
       "    </tr>\n",
       "    <tr>\n",
       "      <th>All</th>\n",
       "      <td>970</td>\n",
       "      <td>30</td>\n",
       "      <td>1000</td>\n",
       "    </tr>\n",
       "  </tbody>\n",
       "</table>\n",
       "</div>"
      ],
      "text/plain": [
       "Verdict  Acceptable  Not Acceptable   All\n",
       "gender                                   \n",
       "female          502              16   518\n",
       "male            468              14   482\n",
       "All             970              30  1000"
      ]
     },
     "execution_count": 19,
     "metadata": {},
     "output_type": "execute_result"
    }
   ],
   "source": [
    "Contingency_Table = pd.crosstab(df['gender'],df['Verdict'], margins = True)\n",
    "Contingency_Table"
   ]
  },
  {
   "cell_type": "markdown",
   "metadata": {},
   "source": [
    "<img src=\"medium_2.png\">"
   ]
  },
  {
   "cell_type": "code",
   "execution_count": 20,
   "metadata": {
    "scrolled": true
   },
   "outputs": [
    {
     "data": {
      "text/plain": [
       "array([502,  16, 468,  14], dtype=int64)"
      ]
     },
     "execution_count": 20,
     "metadata": {},
     "output_type": "execute_result"
    }
   ],
   "source": [
    "Observed_values = np.append(Contingency_Table.iloc[0][0:2].values,\n",
    "                        Contingency_Table.iloc[1][0:2].values)\n",
    "Observed_values"
   ]
  },
  {
   "cell_type": "code",
   "execution_count": 21,
   "metadata": {},
   "outputs": [],
   "source": [
    "Overall_total = Contingency_Table.loc['All','All']"
   ]
  },
  {
   "cell_type": "code",
   "execution_count": 22,
   "metadata": {},
   "outputs": [],
   "source": [
    "row_total = Contingency_Table.iloc[0:2,2].values\n",
    "column_total = Contingency_Table.iloc[2,0:2].values"
   ]
  },
  {
   "cell_type": "code",
   "execution_count": 23,
   "metadata": {},
   "outputs": [
    {
     "data": {
      "text/plain": [
       "[502.46, 15.54, 467.54, 14.46]"
      ]
     },
     "execution_count": 23,
     "metadata": {},
     "output_type": "execute_result"
    }
   ],
   "source": [
    "Expected_values = []\n",
    "for i in range(2):\n",
    "    for j in range(2):\n",
    "        Expected_values.append(row_total[i]*column_total[j]/Overall_total)\n",
    "Expected_values"
   ]
  },
  {
   "cell_type": "markdown",
   "metadata": {},
   "source": [
    "DOF = (No. of rows - 1)(No. of columns - 1) = (2-1)(2-1) = 1"
   ]
  },
  {
   "cell_type": "code",
   "execution_count": 24,
   "metadata": {},
   "outputs": [
    {
     "name": "stdout",
     "output_type": "stream",
     "text": [
      "Chi_square score is  0.029123654909683938\n",
      "Chi_square critical is  2.705543454095404\n"
     ]
    }
   ],
   "source": [
    "from scipy.stats import chi2\n",
    "import matplotlib.pyplot as plt\n",
    "dof = 1\n",
    "Chi_square_value = np.sum((Observed_values-Expected_values)**2/Expected_values)\n",
    "print('Chi_square score is ', Chi_square_value)\n",
    "print('Chi_square critical is ', chi2.ppf(0.9,dof))"
   ]
  },
  {
   "cell_type": "markdown",
   "metadata": {},
   "source": [
    "Chi_square critical: 2.705\n",
    "\n",
    "Chi_square score: 0.029"
   ]
  },
  {
   "cell_type": "code",
   "execution_count": 25,
   "metadata": {},
   "outputs": [
    {
     "data": {
      "image/png": "[encoded data removed]",
      "text/plain": [
       "<Figure size 432x288 with 1 Axes>"
      ]
     },
     "metadata": {
      "needs_background": "light"
     },
     "output_type": "display_data"
    }
   ],
   "source": [
    "from scipy.stats import chi2\n",
    "import matplotlib.pyplot as plt\n",
    "fig, ax = plt.subplots(1, 1)\n",
    "dof = 1\n",
    "x = np.linspace(chi2.ppf(0.01, dof), chi2.ppf(0.99, dof), 1000)\n",
    "#x = np.linspace(norm.ppf(0.01, dof), norm.ppf(0.99, dof), 1000)\n",
    "#x = np.linspace(0, 1, 1000)\n",
    "#x = np.linspace(0,10,100)\n",
    "ax.plot(x, chi2.pdf(x, dof),\n",
    "       'r-', lw=5, alpha=0.9, label = 'chi2 pdf')\n",
    "plt.axvline(x=chi2.ppf(0.9,dof), label='Critical value for alpha=0.1', color='g')\n",
    "plt.axvline(0.029123654909683938, label='Chi-square score')\n",
    "plt.legend()\n",
    "plt.ylim(0,0.5)\n",
    "plt.plot();\n",
    "#print(x)"
   ]
  },
  {
   "cell_type": "markdown",
   "metadata": {},
   "source": [
    "#### Conclusion:\n",
    "\n",
    "From Chi-square table for DOF = 1 and p value = 0.05 Chi-square critical = 2.70\n",
    "Since our calculated Chi-square value is less than the critical value we cannot reject our null hypothesis that there is no relationship between gender and a student's overall performance."
   ]
  },
  {
   "cell_type": "markdown",
   "metadata": {},
   "source": [
    "## Hypothesis 3: There is no difference between students mean performance in either language skill or basic math skill."
   ]
  },
  {
   "cell_type": "markdown",
   "metadata": {},
   "source": [
    "Ho: There is no difference in performance of students between language and basic math skill.\n",
    "\n",
    "Ha: There is a difference in performance of students between language and basic math skill."
   ]
  },
  {
   "cell_type": "markdown",
   "metadata": {},
   "source": [
    "##### Types of Error:\n",
    "\n",
    "A Type 1 Error is rejecting the null hypothesis when Ho is actually true. A Type 2 Error is failing to reject the null hypothesis when the alternative is actually true.\n",
    "\n",
    "Consequences of Type 1 and Type 2 errors:\n",
    "\n",
    "Type 1 error: In this case we may wrongly believe that there is a difference in performance between language and basic math skill. We may dedicate our time and other resources to bridge the gap between them unnecessarily.\n",
    "\n",
    "Type 2 error: In this case we may wrongly believe that there is no difference in performance between language and basic math skill. Assuming no difference in performance no necessary steps will be taken to decrease the gap in performance in both subjects. E.g. conducting extra classes, assignments especially for the subject in which students are underperforming in general. In this case Type 2 error is more costly/dangerous than Type 1 error."
   ]
  },
  {
   "cell_type": "markdown",
   "metadata": {},
   "source": [
    "##### Significance Level:\n",
    "\n",
    "The signiﬁcance level selected for a test should reﬂect the consequences associated with Type 1 and Type 2 Errors.\n",
    "\n",
    "Since Type 2 error is more dangerous, we would increase the significance level to 0.10 from the standard 0.05 because we want to be cautious about failing to reject Ho when our null hypothesis is actually false.\n"
   ]
  },
  {
   "cell_type": "markdown",
   "metadata": {},
   "source": [
    "### Technique used: Two sample t-test (Independent t-test)"
   ]
  },
  {
   "cell_type": "markdown",
   "metadata": {},
   "source": [
    "##### Levene's Test"
   ]
  },
  {
   "cell_type": "markdown",
   "metadata": {},
   "source": [
    "One of the assumptions for two-sample t-test is that the sample observations have homogeneity of variance. [The variances of the populations from which different samples are drawn are equal.]\n",
    "\n",
    "Student's t-test is no longer robust when the data sets have unequal variances especially when they also have unequal sample sizes."
   ]
  },
  {
   "cell_type": "markdown",
   "metadata": {},
   "source": [
    "Null Hypothesis for Levene's test: The two samples come from a population having equal variance.\n",
    "\n",
    "Alternate Hypothesis for Levene's test: The two samples come from a population having different variance."
   ]
  },
  {
   "cell_type": "code",
   "execution_count": 26,
   "metadata": {},
   "outputs": [
    {
     "data": {
      "text/plain": [
       "LeveneResult(statistic=0.2226559155894565, pvalue=0.6370751786068942)"
      ]
     },
     "execution_count": 26,
     "metadata": {},
     "output_type": "execute_result"
    }
   ],
   "source": [
    "import scipy.stats as st\n",
    "st.levene(df['math score'], df['Language Performance'], center = 'mean') "
   ]
  },
  {
   "cell_type": "markdown",
   "metadata": {},
   "source": [
    "Here the p-value is greater than 0.05 and hence we fail to reject the null hypothesis. Therefore there is no significant evidence that there is any variance in the population from which the two samples are taken."
   ]
  },
  {
   "cell_type": "markdown",
   "metadata": {},
   "source": [
    "#### Conducting two sample t-test"
   ]
  },
  {
   "cell_type": "code",
   "execution_count": 27,
   "metadata": {},
   "outputs": [
    {
     "data": {
      "text/plain": [
       "Ttest_indResult(statistic=-3.7736329858162225, pvalue=0.00016557604162518357)"
      ]
     },
     "execution_count": 27,
     "metadata": {},
     "output_type": "execute_result"
    }
   ],
   "source": [
    "st.ttest_ind(df['math score'], df['Language Performance'], equal_var = True)"
   ]
  },
  {
   "cell_type": "markdown",
   "metadata": {},
   "source": [
    "#### Conclusion:\n",
    "\n",
    "Because the p value is smaller than 0.1, it provides sufficiently strong evidence to reject the null hypothesis in favor of the alternative."
   ]
  },
  {
   "cell_type": "markdown",
   "metadata": {},
   "source": [
    "## Hypothesis 4: There is no significant difference in the mean score of students who have taken test preparation and those students who have not taken any test preparation"
   ]
  },
  {
   "cell_type": "markdown",
   "metadata": {},
   "source": [
    "Ho: There is no difference in overall performance of students between those who have taken test preparation and those who have not.\n",
    "\n",
    "Ha: There is a difference in overall performance of students between those who have taken test preparation and those who have not."
   ]
  },
  {
   "cell_type": "markdown",
   "metadata": {},
   "source": [
    "##### Types of Error:\n",
    "\n",
    "A Type 1 Error is rejecting the null hypothesis when Ho is actually true. A Type 2 Error is failing to reject the null hypothesis when the alternative is actually true.\n",
    "\n",
    "Consequences of Type 1 and Type 2 errors:\n",
    "\n",
    "Type 1 error: In this case we may wrongly believe that there is a difference in performance between those who have taken test preparation and those who have not. We may dedicate our time and other resources to enroll more students for test preparation, prepare questionaire and solutions which may waste resources of teaching staff unnecessarily.\n",
    "\n",
    "Type 2 error: In this case we may wrongly believe that there is no difference in performance between those who have taken test preparation and those who have not. Assuming no difference in performance no necessary steps will be taken to increase the enrollment of students in test preparation. In this case Type 2 error is more costly/dangerous than Type 1 error."
   ]
  },
  {
   "cell_type": "markdown",
   "metadata": {},
   "source": [
    "##### Significance Level:\n",
    "\n",
    "The signiﬁcance level selected for a test should reﬂect the consequences associated with Type 1 and Type 2 Errors.\n",
    "\n",
    "Since Type 2 error is more dangerous, we would increase the significance level to 0.10 from the standard 0.05 because we want to be cautious about failing to reject Ho when our null hypothesis is actually false.\n"
   ]
  },
  {
   "cell_type": "markdown",
   "metadata": {},
   "source": [
    "### Technique used: Two sample t-test (Independent t-test)"
   ]
  },
  {
   "cell_type": "code",
   "execution_count": 28,
   "metadata": {},
   "outputs": [
    {
     "data": {
      "text/html": [
       "<div>\n",
       "<style scoped>\n",
       "    .dataframe tbody tr th:only-of-type {\n",
       "        vertical-align: middle;\n",
       "    }\n",
       "\n",
       "    .dataframe tbody tr th {\n",
       "        vertical-align: top;\n",
       "    }\n",
       "\n",
       "    .dataframe thead th {\n",
       "        text-align: right;\n",
       "    }\n",
       "</style>\n",
       "<table border=\"1\" class=\"dataframe\">\n",
       "  <thead>\n",
       "    <tr style=\"text-align: right;\">\n",
       "      <th></th>\n",
       "      <th>gender</th>\n",
       "      <th>race/ethnicity</th>\n",
       "      <th>parental level of education</th>\n",
       "      <th>lunch</th>\n",
       "      <th>test preparation course</th>\n",
       "      <th>math score</th>\n",
       "      <th>reading score</th>\n",
       "      <th>writing score</th>\n",
       "      <th>Language Performance</th>\n",
       "      <th>Overall Performance</th>\n",
       "      <th>Verdict</th>\n",
       "    </tr>\n",
       "  </thead>\n",
       "  <tbody>\n",
       "    <tr>\n",
       "      <th>0</th>\n",
       "      <td>female</td>\n",
       "      <td>group B</td>\n",
       "      <td>bachelor's degree</td>\n",
       "      <td>standard</td>\n",
       "      <td>none</td>\n",
       "      <td>72</td>\n",
       "      <td>72</td>\n",
       "      <td>74</td>\n",
       "      <td>73.0</td>\n",
       "      <td>72.67</td>\n",
       "      <td>Acceptable</td>\n",
       "    </tr>\n",
       "    <tr>\n",
       "      <th>1</th>\n",
       "      <td>female</td>\n",
       "      <td>group C</td>\n",
       "      <td>some college</td>\n",
       "      <td>standard</td>\n",
       "      <td>completed</td>\n",
       "      <td>69</td>\n",
       "      <td>90</td>\n",
       "      <td>88</td>\n",
       "      <td>89.0</td>\n",
       "      <td>82.33</td>\n",
       "      <td>Acceptable</td>\n",
       "    </tr>\n",
       "    <tr>\n",
       "      <th>2</th>\n",
       "      <td>female</td>\n",
       "      <td>group B</td>\n",
       "      <td>master's degree</td>\n",
       "      <td>standard</td>\n",
       "      <td>none</td>\n",
       "      <td>90</td>\n",
       "      <td>95</td>\n",
       "      <td>93</td>\n",
       "      <td>94.0</td>\n",
       "      <td>92.67</td>\n",
       "      <td>Acceptable</td>\n",
       "    </tr>\n",
       "    <tr>\n",
       "      <th>3</th>\n",
       "      <td>male</td>\n",
       "      <td>group A</td>\n",
       "      <td>associate's degree</td>\n",
       "      <td>free/reduced</td>\n",
       "      <td>none</td>\n",
       "      <td>47</td>\n",
       "      <td>57</td>\n",
       "      <td>44</td>\n",
       "      <td>50.5</td>\n",
       "      <td>49.33</td>\n",
       "      <td>Acceptable</td>\n",
       "    </tr>\n",
       "    <tr>\n",
       "      <th>4</th>\n",
       "      <td>male</td>\n",
       "      <td>group C</td>\n",
       "      <td>some college</td>\n",
       "      <td>standard</td>\n",
       "      <td>none</td>\n",
       "      <td>76</td>\n",
       "      <td>78</td>\n",
       "      <td>75</td>\n",
       "      <td>76.5</td>\n",
       "      <td>76.33</td>\n",
       "      <td>Acceptable</td>\n",
       "    </tr>\n",
       "  </tbody>\n",
       "</table>\n",
       "</div>"
      ],
      "text/plain": [
       "   gender race/ethnicity parental level of education         lunch  \\\n",
       "0  female        group B           bachelor's degree      standard   \n",
       "1  female        group C                some college      standard   \n",
       "2  female        group B             master's degree      standard   \n",
       "3    male        group A          associate's degree  free/reduced   \n",
       "4    male        group C                some college      standard   \n",
       "\n",
       "  test preparation course  math score  reading score  writing score  \\\n",
       "0                    none          72             72             74   \n",
       "1               completed          69             90             88   \n",
       "2                    none          90             95             93   \n",
       "3                    none          47             57             44   \n",
       "4                    none          76             78             75   \n",
       "\n",
       "   Language Performance  Overall Performance     Verdict  \n",
       "0                  73.0                72.67  Acceptable  \n",
       "1                  89.0                82.33  Acceptable  \n",
       "2                  94.0                92.67  Acceptable  \n",
       "3                  50.5                49.33  Acceptable  \n",
       "4                  76.5                76.33  Acceptable  "
      ]
     },
     "execution_count": 28,
     "metadata": {},
     "output_type": "execute_result"
    }
   ],
   "source": [
    "df.head()"
   ]
  },
  {
   "cell_type": "code",
   "execution_count": 55,
   "metadata": {},
   "outputs": [
    {
     "data": {
      "text/plain": [
       "(358,)"
      ]
     },
     "execution_count": 55,
     "metadata": {},
     "output_type": "execute_result"
    }
   ],
   "source": [
    "df['math score'][df['test preparation course'] == 'completed'].shape"
   ]
  },
  {
   "cell_type": "code",
   "execution_count": 56,
   "metadata": {},
   "outputs": [
    {
     "data": {
      "text/plain": [
       "(642,)"
      ]
     },
     "execution_count": 56,
     "metadata": {},
     "output_type": "execute_result"
    }
   ],
   "source": [
    "df['math score'][df['test preparation course'] == 'none'].shape"
   ]
  },
  {
   "cell_type": "markdown",
   "metadata": {},
   "source": [
    "##### Levene's Test\n",
    "\n",
    "One of the assumptions for two-sample t-test is that the sample observations have homogeneity of variance. [The variances of the populations from which different samples are drawn are equal.]\n",
    "\n",
    "Student's t-test is no longer robust when the data sets have unequal variances especially when they also have unequal sample sizes.\n",
    "\n",
    "Null Hypothesis for Levene's test: The two samples come from a population having equal variance.\n",
    "\n",
    "Alternate Hypothesis for Levene's test: The two samples come from a population having different variance."
   ]
  },
  {
   "cell_type": "code",
   "execution_count": 31,
   "metadata": {},
   "outputs": [
    {
     "data": {
      "text/plain": [
       "LeveneResult(statistic=0.5084381576730838, pvalue=0.4759824372242518)"
      ]
     },
     "execution_count": 31,
     "metadata": {},
     "output_type": "execute_result"
    }
   ],
   "source": [
    "st.levene(df['math score'][df['test preparation course'] == 'completed'], df['math score']\n",
    "          [df['test preparation course'] == 'none'],\n",
    "          center = 'mean') "
   ]
  },
  {
   "cell_type": "markdown",
   "metadata": {},
   "source": [
    "Here the p-value is greater than 0.05 and hence we fail to reject the null hypothesis. Therefore there is no significant evidence that there is any variance in the population from which the two samples are taken."
   ]
  },
  {
   "cell_type": "code",
   "execution_count": 32,
   "metadata": {},
   "outputs": [
    {
     "data": {
      "text/plain": [
       "count    358.000000\n",
       "mean      69.695531\n",
       "std       14.444699\n",
       "min       23.000000\n",
       "25%       60.000000\n",
       "50%       69.000000\n",
       "75%       79.000000\n",
       "max      100.000000\n",
       "Name: math score, dtype: float64"
      ]
     },
     "execution_count": 32,
     "metadata": {},
     "output_type": "execute_result"
    }
   ],
   "source": [
    "df['math score'][df['test preparation course'] == 'completed'].describe()"
   ]
  },
  {
   "cell_type": "code",
   "execution_count": 33,
   "metadata": {},
   "outputs": [
    {
     "data": {
      "text/plain": [
       "count    642.000000\n",
       "mean      64.077882\n",
       "std       15.192376\n",
       "min        0.000000\n",
       "25%       54.000000\n",
       "50%       64.000000\n",
       "75%       74.750000\n",
       "max      100.000000\n",
       "Name: math score, dtype: float64"
      ]
     },
     "execution_count": 33,
     "metadata": {},
     "output_type": "execute_result"
    }
   ],
   "source": [
    "df['math score'][df['test preparation course'] == 'none'].describe()"
   ]
  },
  {
   "cell_type": "markdown",
   "metadata": {},
   "source": [
    "#### Conducting two sample t-test"
   ]
  },
  {
   "cell_type": "code",
   "execution_count": 34,
   "metadata": {},
   "outputs": [
    {
     "data": {
      "text/plain": [
       "Ttest_indResult(statistic=5.704616417349102, pvalue=1.5359134607147415e-08)"
      ]
     },
     "execution_count": 34,
     "metadata": {},
     "output_type": "execute_result"
    }
   ],
   "source": [
    "st.ttest_ind(df['math score'][df['test preparation course'] == 'completed'], \n",
    "             df['math score'][df['test preparation course'] == 'none'])"
   ]
  },
  {
   "cell_type": "markdown",
   "metadata": {},
   "source": [
    "#### Bottom 2 cells added later"
   ]
  },
  {
   "cell_type": "code",
   "execution_count": 35,
   "metadata": {},
   "outputs": [
    {
     "data": {
      "text/plain": [
       "5.704616417349102"
      ]
     },
     "execution_count": 35,
     "metadata": {},
     "output_type": "execute_result"
    }
   ],
   "source": [
    "t_2sample_statistic = st.ttest_ind(df['math score'][df['test preparation course'] == 'completed'], \n",
    "                                     df['math score'][df['test preparation course'] == 'none'])[0]\n",
    "t_2sample_statistic"
   ]
  },
  {
   "cell_type": "code",
   "execution_count": 57,
   "metadata": {},
   "outputs": [
    {
     "data": {
      "image/png": "[encoded data removed]",
      "text/plain": [
       "<Figure size 576x288 with 1 Axes>"
      ]
     },
     "metadata": {
      "needs_background": "light"
     },
     "output_type": "display_data"
    }
   ],
   "source": [
    "from scipy.stats import t\n",
    "import matplotlib.pyplot as plt\n",
    "fig, ax = plt.subplots(figsize=(8, 4))\n",
    "dof = 357 # smaller (n-1)\n",
    "x = np.linspace(t.ppf(0.01, dof), t.ppf(0.99, dof), 1000)\n",
    "ax.plot(x, t.pdf(x, dof),\n",
    "       'r-', lw=5, alpha=0.9, label = 't pdf')\n",
    "plt.axvline(x=t.ppf(0.05,dof), label='Lower Critical value for alpha=0.1', color='g')\n",
    "plt.axvline(x=t.ppf(0.95,dof), label='Upper value for alpha=0.1', color='g')\n",
    "plt.axvline(t_2sample_statistic, label='t-test score')\n",
    "plt.legend()\n",
    "plt.plot();"
   ]
  },
  {
   "cell_type": "markdown",
   "metadata": {},
   "source": [
    "X axis should be mu(with prepration) - mu(without preparation) = 0 (Page 235 open intro)"
   ]
  },
  {
   "cell_type": "markdown",
   "metadata": {},
   "source": [
    "#### Conclusion:\n",
    "\n",
    "Because the p value is smaller than 0.1, it provides sufficiently strong evidence to reject the null hypothesis in favor of the alternative."
   ]
  },
  {
   "cell_type": "markdown",
   "metadata": {},
   "source": [
    "## Understanding and simulating Central Limit Theorem"
   ]
  },
  {
   "cell_type": "markdown",
   "metadata": {},
   "source": [
    "The central limit theorem states that the sampling distribution of the mean of any independent, random variable will be normal or nearly normal, if the sample size is large enough.\n",
    "\n",
    "To understand this concept we will be actually simulating it through experiments. We will create a sampling distribution of sample means where each sample is of size n (will take different values) and observe how closely it approximates an ideal normal distribution.\n",
    "\n",
    "We will use two distributions as populations, one obtained from the dataset itself which is slightly skewed and an exponential distribution which is highly skewed. This will enable us to understand whether this theorem also applies to samples which come from distributions other than normal."
   ]
  },
  {
   "cell_type": "markdown",
   "metadata": {},
   "source": [
    "#### Considering 'math score' from the dataset as the population"
   ]
  },
  {
   "cell_type": "code",
   "execution_count": 36,
   "metadata": {},
   "outputs": [
    {
     "data": {
      "image/png": "[encoded data removed]",
      "text/plain": [
       "<Figure size 432x288 with 1 Axes>"
      ]
     },
     "metadata": {
      "needs_background": "light"
     },
     "output_type": "display_data"
    }
   ],
   "source": [
    "sb.distplot(df['math score']);\n",
    "\n",
    "population_mean = round(df['math score'].mean(),2)\n",
    "right_xlimit = plt.xlim()[1]\n",
    "top_ylimit = plt.ylim()[1]\n",
    "plt.text(right_xlimit*(1/6), top_ylimit*(2/3), r'$\\mu= %s$' % population_mean);\n"
   ]
  },
  {
   "cell_type": "markdown",
   "metadata": {},
   "source": [
    "We observe that the math score of the students is nearly normal with slight skew to the left. Here the mean is 66.09 and will be considered as the population mean."
   ]
  },
  {
   "cell_type": "markdown",
   "metadata": {},
   "source": [
    "#### Considering an exponential distribution as the population"
   ]
  },
  {
   "cell_type": "code",
   "execution_count": 37,
   "metadata": {},
   "outputs": [],
   "source": [
    "pdf_df = pd.DataFrame({'success': range(0, 5000, 10),\n",
    "                      'pdf': list(stats.expon.pdf(range(0, 5000, 10),\n",
    "                                                 loc = 1/100,\n",
    "                                                 scale = 1000))})"
   ]
  },
  {
   "cell_type": "code",
   "execution_count": 38,
   "metadata": {
    "scrolled": true
   },
   "outputs": [
    {
     "data": {
      "text/plain": [
       "(0, 0.0012)"
      ]
     },
     "execution_count": 38,
     "metadata": {},
     "output_type": "execute_result"
    },
    {
     "data": {
      "image/png": "[encoded data removed]",
      "text/plain": [
       "<Figure size 432x288 with 1 Axes>"
      ]
     },
     "metadata": {
      "needs_background": "light"
     },
     "output_type": "display_data"
    }
   ],
   "source": [
    "sb.distplot(pdf_df.pdf)\n",
    "plt.xlim(0, 0.0012)"
   ]
  },
  {
   "cell_type": "code",
   "execution_count": 39,
   "metadata": {},
   "outputs": [
    {
     "data": {
      "text/plain": [
       "(500, 2)"
      ]
     },
     "execution_count": 39,
     "metadata": {},
     "output_type": "execute_result"
    }
   ],
   "source": [
    "pdf_df.shape"
   ]
  },
  {
   "cell_type": "markdown",
   "metadata": {},
   "source": [
    "## One chart explaining all of CLT "
   ]
  },
  {
   "cell_type": "code",
   "execution_count": 40,
   "metadata": {},
   "outputs": [],
   "source": [
    "font = {'size'   : 11.5}\n",
    "\n",
    "matplotlib.rc('font', **font)"
   ]
  },
  {
   "cell_type": "code",
   "execution_count": 41,
   "metadata": {},
   "outputs": [
    {
     "data": {
      "image/png": "[encoded data removed]",
      "text/plain": [
       "<Figure size 1440x1440 with 10 Axes>"
      ]
     },
     "metadata": {
      "needs_background": "light"
     },
     "output_type": "display_data"
    }
   ],
   "source": [
    "\n",
    "plt.figure(figsize=(20, 20))\n",
    "\n",
    "plt.subplot(521)\n",
    "sb.distplot(df['math score']);\n",
    "\n",
    "population_mean = round(df['math score'].mean(),2)\n",
    "right_xlimit = plt.xlim()[1]\n",
    "top_ylimit = plt.ylim()[1]\n",
    "plt.text(right_xlimit*(1/6), top_ylimit*(2/3), r'$\\mu= %s$' % population_mean)\n",
    "\n",
    "\n",
    "plt.subplot(523)\n",
    "List_1 = []              # Using for loop to create 10000 samples of size 10 from the original population 'math score'\n",
    "for i in range(0,10000):\n",
    "    n_samples = np.random.choice(df['math score'],10)\n",
    "    List_1.append(n_samples.mean())# a mean is calculated for each sample for further plotting\n",
    "sb.distplot(List_1, label = 'Sample Distribution, n = 10');\n",
    "\n",
    "x = np.linspace(np.array(List_1).min(), np.array(List_1).max(), 100)\n",
    "y = stats.norm.pdf(x, loc = np.array(List_1).mean(), scale = np.array(List_1).std())\n",
    "plt.plot(x,y, label = 'Normal Approximation')\n",
    "plt.legend()\n",
    "\n",
    "sample_mean = round(np.array(List_1).mean(),2)\n",
    "standard_error = round(np.array(List_1).std(),2)\n",
    "right_xlimit = plt.xlim()[1]\n",
    "top_ylimit = plt.ylim()[1]\n",
    "plt.text(right_xlimit*(6/7), top_ylimit*(2/3), r'$\\bar{X}= %s$' % sample_mean)\n",
    "plt.text(right_xlimit*(6/7), top_ylimit*(2/4), r'$\\ S.E.= %s$' % standard_error)\n",
    "\n",
    "plt.subplot(525)\n",
    "List_2 = []              # Using for loop to create 10000 samples of size 30 from the original population 'math score'\n",
    "for i in range(0,10000):\n",
    "    n_samples = np.random.choice(df['math score'],30)\n",
    "    List_2.append(n_samples.mean())# a mean is calculated for each sample for further plotting\n",
    "sb.distplot(List_2, label = 'Sample Distribution, n = 30');\n",
    "\n",
    "x = np.linspace(np.array(List_2).min(), np.array(List_2).max(), 100)\n",
    "y = stats.norm.pdf(x, loc = np.array(List_2).mean(), scale = np.array(List_2).std())\n",
    "plt.plot(x,y, label = 'Normal Approximation')\n",
    "plt.legend()\n",
    "\n",
    "sample_mean = round(np.array(List_2).mean(),2)\n",
    "standard_error = round(np.array(List_2).std(),2)\n",
    "right_xlimit = plt.xlim()[1]\n",
    "top_ylimit = plt.ylim()[1]\n",
    "plt.text(right_xlimit*(0.9), top_ylimit*(2/3), r'$\\bar{X}= %s$' % sample_mean)\n",
    "plt.text(right_xlimit*(0.9), top_ylimit*(2/4), r'$\\ S.E.= %s$' % standard_error)\n",
    "\n",
    "plt.subplot(527)\n",
    "List_3 = []              # Using for loop to create 10000 samples of size 50 from the original population 'math score'\n",
    "for i in range(0,10000):\n",
    "    n_samples = np.random.choice(df['math score'],50)\n",
    "    List_3.append(n_samples.mean())# a mean is calculated for each sample for further plotting\n",
    "sb.distplot(List_3, label = 'Sample Distribution, n = 50');\n",
    "\n",
    "x = np.linspace(np.array(List_3).min(), np.array(List_3).max(), 100)\n",
    "y = stats.norm.pdf(x, loc = np.array(List_3).mean(), scale = np.array(List_3).std())\n",
    "plt.plot(x,y, label = 'Normal Approximation')\n",
    "plt.legend()\n",
    "\n",
    "sample_mean = round(np.array(List_3).mean(),2)\n",
    "standard_error = round(np.array(List_3).std(),2)\n",
    "right_xlimit = plt.xlim()[1]\n",
    "top_ylimit = plt.ylim()[1]\n",
    "plt.text(right_xlimit*(0.92), top_ylimit*(2/3), r'$\\bar{X}= %s$' % sample_mean)\n",
    "plt.text(right_xlimit*(0.92), top_ylimit*(2/4), r'$\\ S.E.= %s$' % standard_error)\n",
    "\n",
    "\n",
    "plt.subplot(529)\n",
    "List_4 = []              # Using for loop to create 10000 samples of size 100 from the original population 'math score'\n",
    "for i in range(0,10000):\n",
    "    n_samples = np.random.choice(df['math score'],100)\n",
    "    List_4.append(n_samples.mean())# a mean is calculated for each sample for further plotting\n",
    "sb.distplot(List_4, label = 'Sample Distribution, n = 100');\n",
    "\n",
    "x = np.linspace(np.array(List_4).min(), np.array(List_4).max(), 100)\n",
    "y = stats.norm.pdf(x, loc = np.array(List_4).mean(), scale = np.array(List_4).std())\n",
    "plt.plot(x,y, label = 'Normal Approximation')\n",
    "plt.legend()\n",
    "\n",
    "sample_mean = round(np.array(List_4).mean(),2)\n",
    "standard_error = round(np.array(List_4).std(),2)\n",
    "right_xlimit = plt.xlim()[1]\n",
    "top_ylimit = plt.ylim()[1]\n",
    "plt.text(right_xlimit*(0.95), top_ylimit*(2/3), r'$\\bar{X}= %s$' % sample_mean)\n",
    "plt.text(right_xlimit*(0.95), top_ylimit*(2/4), r'$\\ S.E.= %s$' % standard_error)\n",
    "\n",
    "plt.subplot(522)\n",
    "sb.distplot(pdf_df.pdf)\n",
    "plt.xlim(0, 0.0012)\n",
    "\n",
    "population_mean = round(pdf_df.pdf.mean(),8)\n",
    "right_xlimit = plt.xlim()[1]\n",
    "top_ylimit = plt.ylim()[1]\n",
    "plt.text(right_xlimit*(3/4), top_ylimit*(2/3), r'$\\mu= %s$' % population_mean)\n",
    "\n",
    "\n",
    "plt.subplot(524)\n",
    "List_5 = []              # Using for loop to create 10000 samples of size 10 from a population which has exponential distribution\n",
    "for i in range(0,1000):\n",
    "    n_samples = np.random.choice(pdf_df.pdf,10)\n",
    "    List_5.append(n_samples.mean())# a mean is calculated for each sample for further plotting\n",
    "sb.distplot(List_5, label = 'Sample Distribution, n = 10')\n",
    "\n",
    "x = np.linspace(np.array(List_5).min(), np.array(List_5).max(), 100)\n",
    "y = stats.norm.pdf(x, loc = np.array(List_5).mean(), scale = np.array(List_5).std())\n",
    "plt.plot(x,y, '--', label = 'Normal Approximation')\n",
    "plt.legend()\n",
    "\n",
    "sample_mean = round(np.array(List_5).mean(),8)\n",
    "standard_error = round(np.array(List_5).std(),8)\n",
    "right_xlimit = plt.xlim()[1]\n",
    "top_ylimit = plt.ylim()[1]\n",
    "plt.text(right_xlimit*(2/3), top_ylimit*(2/3), r'$\\bar{X}= %s$' % sample_mean)\n",
    "plt.text(right_xlimit*(2/3), top_ylimit*(2/4), r'$\\ S.E.= %s$' % standard_error)\n",
    "\n",
    "plt.subplot(526)\n",
    "List_5 = []              # Using for loop to create 10000 samples of size 30 from a population which has exponential distribution\n",
    "for i in range(0,1000):\n",
    "    n_samples = np.random.choice(pdf_df.pdf,30)\n",
    "    List_5.append(n_samples.mean())# a mean is calculated for each sample for further plotting\n",
    "sb.distplot(List_5,  label = 'Sample Distribution, n = 30')\n",
    "\n",
    "x = np.linspace(np.array(List_5).min(), np.array(List_5).max(), 100)\n",
    "y = stats.norm.pdf(x, loc = np.array(List_5).mean(), scale = np.array(List_5).std())\n",
    "plt.plot(x,y, '--', label = 'Normal Approximation')\n",
    "plt.legend()\n",
    "\n",
    "sample_mean = round(np.array(List_5).mean(),8)\n",
    "standard_error = round(np.array(List_5).std(),8)\n",
    "right_xlimit = plt.xlim()[1]\n",
    "top_ylimit = plt.ylim()[1]\n",
    "plt.text(right_xlimit*(0.7), top_ylimit*(2/3), r'$\\bar{X}= %s$' % sample_mean)\n",
    "plt.text(right_xlimit*(0.7), top_ylimit*(2/4), r'$\\ S.E.= %s$' % standard_error)\n",
    "\n",
    "plt.subplot(528)\n",
    "List_5 = []              # Using for loop to create 10000 samples of size 50 from a population which has exponential distribution\n",
    "for i in range(0,1000):\n",
    "    n_samples = np.random.choice(pdf_df.pdf,50)\n",
    "    List_5.append(n_samples.mean())# a mean is calculated for each sample for further plotting\n",
    "sb.distplot(List_5, label = 'Sample Distribution, n = 50')\n",
    "\n",
    "x = np.linspace(np.array(List_5).min(), np.array(List_5).max(), 100)\n",
    "y = stats.norm.pdf(x, loc = np.array(List_5).mean(), scale = np.array(List_5).std())\n",
    "plt.plot(x,y, '--', label = 'Normal Approximation')\n",
    "plt.legend()\n",
    "\n",
    "sample_mean = round(np.array(List_5).mean(),8)\n",
    "standard_error = round(np.array(List_5).std(),8)\n",
    "right_xlimit = plt.xlim()[1]\n",
    "top_ylimit = plt.ylim()[1]\n",
    "plt.text(right_xlimit*(0.75), top_ylimit*(2/3), r'$\\bar{X}= %s$' % sample_mean)\n",
    "plt.text(right_xlimit*(0.75), top_ylimit*(2/4), r'$\\ S.E.= %s$' % standard_error)\n",
    "\n",
    "plt.subplot(5,2,10)\n",
    "List_5 = []              # Using for loop to create 10000 samples of size 100 from a population which has exponential distribution\n",
    "for i in range(0,1000):\n",
    "    n_samples = np.random.choice(pdf_df.pdf,100)\n",
    "    List_5.append(n_samples.mean())# a mean is calculated for each sample for further plotting\n",
    "sb.distplot(List_5, label = 'Sample Distribution, n = 100')\n",
    "\n",
    "x = np.linspace(np.array(List_5).min(), np.array(List_5).max(), 100)\n",
    "y = stats.norm.pdf(x, loc = np.array(List_5).mean(), scale = np.array(List_5).std())\n",
    "plt.plot(x,y, '--', label = 'Normal Approximation')\n",
    "plt.legend()\n",
    "\n",
    "sample_mean = round(np.array(List_5).mean(),8)\n",
    "standard_error = round(np.array(List_5).std(),8)\n",
    "right_xlimit = plt.xlim()[1]\n",
    "top_ylimit = plt.ylim()[1]\n",
    "plt.text(right_xlimit*(0.8), top_ylimit*(2/3), r'$\\bar{X}= %s$' % sample_mean)\n",
    "plt.text(right_xlimit*(0.8), top_ylimit*(2/4), r'$\\ S.E.= %s$' % standard_error)\n",
    "\n",
    "plt.show()"
   ]
  },
  {
   "cell_type": "markdown",
   "metadata": {},
   "source": [
    "#### Observations:\n",
    "\n",
    "1. We can observe that irrespective whether a sample comes from a distribution belonging to normal or not, the sample distribution of the sample means tends to be normal thus proving the central limit theorem.\n",
    "2. We observe that as sample size increases the standard error of the sampling distribution goes on decreasing.\n",
    "3. In general as sample size increases the normal approximation improves.\n",
    "4. However if sample belongs from a population which is highly skewed then it requires a much larger size to approximate the normal distribution. So if a dataset has prominent outliers, or such observations are somewhat common for the type of data under study, then it is useful to collect a sample with many more than 30 observations (which is normally used) if the normal model is applied.\n",
    " "
   ]
  },
  {
   "cell_type": "code",
   "execution_count": null,
   "metadata": {},
   "outputs": [],
   "source": []
  }
 ],
 "metadata": {
  "kernelspec": {
   "display_name": "Python 3",
   "language": "python",
   "name": "python3"
  },
  "language_info": {
   "codemirror_mode": {
    "name": "ipython",
    "version": 3
   },
   "file_extension": ".py",
   "mimetype": "text/x-python",
   "name": "python",
   "nbconvert_exporter": "python",
   "pygments_lexer": "ipython3",
   "version": "3.7.6"
  }
 },
 "nbformat": 4,
 "nbformat_minor": 2
}
